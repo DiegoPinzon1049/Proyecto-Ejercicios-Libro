{
 "cells": [
  {
   "cell_type": "code",
   "execution_count": 5,
   "id": "359b283f",
   "metadata": {},
   "outputs": [],
   "source": [
    "from IPython.display import Image\n",
    "import pandas as pd\n",
    "import random\n",
    "import matplotlib.pyplot as plt"
   ]
  },
  {
   "cell_type": "markdown",
   "id": "795782c7",
   "metadata": {},
   "source": [
    "## Ejercicio 1.2"
   ]
  },
  {
   "cell_type": "markdown",
   "id": "2f57fc8e",
   "metadata": {},
   "source": [
    "Suponga que usamos un perceptron para detectar mensajes de spam. Digamos que cada mensaje de email está representado por la frecuencia de ocurrencia de keywords(palabras clave), y la salida es $+1$ si el mensaje es considerado spam."
   ]
  },
  {
   "cell_type": "markdown",
   "id": "19d89017",
   "metadata": {},
   "source": [
    "(a) ¿Puedes pensar en algunas palabras clave que terminarán con un gran peso positivo en el perceptrón?"
   ]
  },
  {
   "cell_type": "markdown",
   "id": "000d0bf8",
   "metadata": {},
   "source": [
    "**Respuesta:**\n",
    "- Ofertas o promociones: palabras como \"gratuito\", \"ganador\", \"descuento\", \"oportunidad única\", \"oferta exclusiva\", \"premio\", \"dinero fácil\" y términos similares pueden indicar un correo de spam.\n",
    "\n",
    "- Solicitudes de información personal: palabras relacionadas con solicitudes de información personal, como \"contraseña\", \"cuenta bancaria\", \"número de seguro social\", \"datos personales\" o \"tarjeta de crédito\", pueden ser una señal de spam.\n",
    "\n",
    "- Urgencia o llamadas a la acción agresivas: palabras o frases que intentan crear una sensación de urgencia o presión para actuar rápidamente, como \"actúe ahora\", \"no se pierda esta oportunidad\", \"urgente\", \"solo por tiempo limitado\" o \"último aviso\", a menudo se encuentran en correos no deseados.\n",
    "\n",
    "- Palabras relacionadas con medicamentos o productos ilegales: términos como \"viagra\", \"cialis\", \"drogas\", \"medicamentos sin receta\", \"productos para bajar de peso\" o \"estafa\" son comunes en correos de spam relacionados con productos farmacéuticos o ilegales.\n",
    "\n",
    "- Gramática y ortografía deficiente: errores evidentes de gramática, ortografía o puntuación pueden ser indicativos de correos no deseados. Los spammers a menudo descuidan estos aspectos en sus mensajes.\n",
    "\n",
    "- Enlaces sospechosos o acortados: la presencia de enlaces acortados o direcciones de sitios web sospechosas puede ser una señal de spam. También es importante tener cuidado con los enlaces que parecen dirigir a sitios web legítimos pero, en realidad, llevan a sitios falsos o maliciosos.\n",
    "\n",
    "- Remitentes desconocidos o direcciones de correo electrónico sospechosas: si el remitente del correo electrónico es desconocido o la dirección de correo electrónico parece sospechosa, esto puede ser una indicación de que el correo es spam."
   ]
  },
  {
   "cell_type": "markdown",
   "id": "690bb56b",
   "metadata": {},
   "source": [
    "(b) ¿Qué hay de las palabras clave que obtendrán un peso negativo?"
   ]
  },
  {
   "cell_type": "markdown",
   "id": "1119e2c0",
   "metadata": {},
   "source": [
    "**Respuesta:**\n",
    "- Saludos personalizados: si el correo electrónico incluye tu nombre o algún dato personal específico en el saludo, es más probable que sea legítimo en comparación con los correos de spam que suelen utilizar saludos genéricos.\n",
    "\n",
    "- Nombres de dominio legítimos: verifica que el correo provenga de un dominio de correo electrónico confiable y conocido, como \"tunombre@nombredeempresa.com\" en lugar de un dominio genérico o sospechoso.\n",
    "\n",
    "- Información de contacto legítima: los correos electrónicos auténticos suelen proporcionar información de contacto válida del remitente, como una dirección física, número de teléfono o enlaces a sitios web oficiales de la empresa o institución.\n",
    "\n",
    "- Lenguaje profesional y consistente: los correos electrónicos legítimos suelen tener un lenguaje bien redactado, sin errores gramaticales o de ortografía evidentes. Presta atención a la calidad del texto y a la coherencia en el mensaje.\n",
    "\n",
    "- Información precisa y relevante: los correos electrónicos legítimos suelen contener información específica y relevante para ti, como detalles de una transacción reciente, un servicio solicitado o información sobre una cuenta existente.\n",
    "\n",
    "- Enlaces seguros: si un correo electrónico contiene enlaces, asegúrate de que sean seguros y legítimos. Puedes verificar la dirección URL antes de hacer clic en ellos o simplemente abrir tu navegador y acceder al sitio web oficial de la empresa o servicio directamente.\n",
    "\n",
    "- Ausencia de solicitudes de información personal sensible: los correos electrónicos auténticos rara vez te solicitarán información personal sensible, como contraseñas, números de seguridad social o datos bancarios, a menos que sea una comunicación oficial de confianza y estés realizando una transacción o proceso conocido."
   ]
  },
  {
   "cell_type": "markdown",
   "id": "14700455",
   "metadata": {},
   "source": [
    "(c) ¿Qué parámetro en el perceptrón afecta directamente cuántos mensajes límite terminan siendo clasificados como spam?"
   ]
  },
  {
   "cell_type": "markdown",
   "id": "7fed8a45",
   "metadata": {},
   "source": [
    "**Respuesta:**\n",
    "\n",
    "El parámetro en el perceptrón que afecta directamente cuántos mensajes se clasifican como spam es el umbral de decisión (threshold en inglés). El umbral de decisión determina el límite o punto de corte para clasificar un mensaje como spam o no spam.\n",
    "\n",
    "En un perceptrón, después de aplicar una combinación lineal de características del mensaje y aplicar una función de activación (como la función escalón o la función sigmoide), se compara el resultado con el umbral de decisión. Si el resultado supera el umbral, se clasifica como spam; de lo contrario, se clasifica como no spam.\n",
    "\n",
    "Ajustar el umbral de decisión tiene un impacto directo en cuántos mensajes se clasificarán como spam. Si el umbral se establece en un valor más bajo, se clasificará un mayor número de mensajes como spam, lo que podría resultar en un mayor número de falsos positivos (mensajes legítimos clasificados como spam). Por otro lado, si el umbral se establece en un valor más alto, se clasificará un menor número de mensajes como spam, lo que podría resultar en un mayor número de falsos negativos (mensajes de spam clasificados como no spam).\n",
    "\n",
    "El ajuste del umbral de decisión es una forma de controlar el equilibrio entre la precisión de la clasificación y el nivel de tolerancia a los falsos positivos y falsos negativos en la detección de spam. El valor óptimo del umbral de decisión dependerá del contexto y de las necesidades específicas de clasificación de spam del sistema o algoritmo utilizado."
   ]
  },
  {
   "cell_type": "markdown",
   "id": "ffc16f5e",
   "metadata": {},
   "source": [
    "## Ejercicio 1.3"
   ]
  },
  {
   "cell_type": "markdown",
   "id": "95a3264c",
   "metadata": {},
   "source": [
    "**(a)** Muestre que $y(t)\\mathrm{w}(t)\\mathrm{x}(t)<0$ "
   ]
  },
  {
   "cell_type": "markdown",
   "id": "11f5e390",
   "metadata": {},
   "source": [
    "**Demostración:** $\\mathrm{x}(t)$ está mal clasificado por $\\mathrm{w}(t)$; por lo que $y(t) \\neq \\mathrm{sign}(\\mathrm{w}^T(t)\\mathrm{x}(t))$. Luego, sin pérdida de generalidad, si $y(t)$ = $+1$, entonces $\\mathrm{sign}(\\mathrm{w}^T(t)\\mathrm{x}(t))=-1$. De forma análoga, si $y(t)$ = $-1$, entonces $\\mathrm{sign}(\\mathrm{w}^T(t)\\mathrm{x}(t))=+1$.\n",
    "Así, $\\mathrm{sign}(y(t)\\mathrm{w}^T(t)\\mathrm{x}(t))=-1$; y por lo tanto $y(t)\\mathrm{w}^T(t)\\mathrm{x}(t)<0$. $\\blacksquare$"
   ]
  },
  {
   "cell_type": "markdown",
   "id": "60be3b1f",
   "metadata": {},
   "source": [
    "**(b)** Muestre que $y(t)\\mathrm{w}^T(t+1)\\mathrm{x}(t)>y(t)\\mathrm{w}^T(t)\\mathrm{x}(t)$."
   ]
  },
  {
   "cell_type": "markdown",
   "id": "7e971b97",
   "metadata": {},
   "source": [
    "**Hipótesis:** $\\mathrm{w}(t+1) = \\mathrm{w}(t) + y(t)\\mathrm{x}(t)$.\n",
    "\n",
    "**Demostración:** Dada la hipótesis anterior, se tiene: $$y(t)[\\mathrm{w}^T(t+1)]\\mathrm{x}(t) = y(t)[\\mathrm{w}^T(t) +y(t)\\mathrm{x}^T(t)]\\mathrm{x}(t)\\\\\n",
    "                      = y(t)\\mathrm{w}^T(t)\\mathrm{x}(t) + (y(t))^2\\mathrm{x}^T(t)\\mathrm{x}(t) \\\\\n",
    "                      = y(t)\\mathrm{w}^T(t)\\mathrm{x}(t) + (y(t))^2 \\|{x}\\|^2$$\n",
    "Asumendo que $x(t) \\neq 0_v$, se tiene que $\\|{x}\\|^2>0$. Además. como $y(t)= \\pm 1$ entonces $(y(t))^2 =+1$; por lo que $(y(t))^2 \\|{x}\\|^2 > 0$. Así, $$y(t)\\mathrm{w}^T(t)\\mathrm{x}(t) + (y(t))^2 \\|{x}\\|^2 > y(t)\\mathrm{w}^T(t)\\mathrm{x}(t)$$ y por lo tanto $$y(t)\\mathrm{w}^T(t+1)\\mathrm{x}(t)>y(t)\\mathrm{w}^T(t)\\mathrm{x}(t) \\blacksquare$$"
   ]
  },
  {
   "cell_type": "markdown",
   "id": "82f09fbc",
   "metadata": {},
   "source": [
    "**(c)** En lo que respecta a la clasificación de $\\mathrm{x}(t)$, argumente que el movimiento de $\\mathrm{w}(t)$ a $\\mathrm{w}(t+1)$ es un movimiento en la dirección correcta."
   ]
  },
  {
   "cell_type": "markdown",
   "id": "3ef63f62",
   "metadata": {},
   "source": [
    "**Respuesta:** Como se demostró en el punto (a), se tiene que $y(t)\\mathrm{w}^T(t)\\mathrm{x}(t)<0$ siempre que $x(t)$ esté mal clasificado por $w(t)$. Además, se tendrá una buena clasificación siempre que $y(t)\\mathrm{w}^T(t)\\mathrm{x}(t)>0$; por lo que, considerando la transformación del punto (b), si $y(t)\\mathrm{w}^T(t+1)\\mathrm{x}(t)>y(t)\\mathrm{w}^T(t)\\mathrm{x}(t)$, en caso de $x(t)$ estar mal clasificado también por $w(t+1)$, se tendrá:\n",
    "$$y(t)\\mathrm{w}^T(t)\\mathrm{x}(t) < y(t)\\mathrm{w}^T(t+1)\\mathrm{x}(t) < 0$$ por lo que la transformación se acerca cada vez más al 0 y por ende a superarlo y estar bien clasificado. De esto se deduce que que en lo que respecta a la clasificación de $x(t)$, el movimiento de $w(t)$ a $w(t+1)$ se mueve en la dirección correcta."
   ]
  },
  {
   "cell_type": "markdown",
   "id": "ff69326d",
   "metadata": {},
   "source": [
    "## Ejercicio 1.10"
   ]
  },
  {
   "cell_type": "markdown",
   "id": "d2d74653",
   "metadata": {},
   "source": [
    "Aquí hay un experimento que ilustra la diferencia entre un simple bin y múltiples bines. Ejecute una simulación de lanzamiento de 1.000 monedas al aire. Se lanza cada moneda de forma independiente 10 veces. Enfoquémonos en 3 monedas como las siguientes: $c_1$ es la primer moneda lanzada; $c_{rand}$ es una moneda que se escoje aleatoriamente; $c_{min}$ es la moneda que tuvo la menor frecuencia de caras (elije la primera en caso de empate). Sea $\\nu_1$ y $\\nu_{rand}$ y $\\nu_{min}$ la fracción de caras que se obtienen para las respectivas tres monedas."
   ]
  },
  {
   "cell_type": "code",
   "execution_count": 6,
   "id": "8b412838",
   "metadata": {},
   "outputs": [],
   "source": [
    "def lanzamiento_moneda():\n",
    "    n = 10 # Número de lanzamientos al aire de cada moneda\n",
    "    caras_c = 0\n",
    "    \n",
    "    for i in range(n):  # Realizar n lanzamientos por moneda\n",
    "        resultado_c = random.choice(['cara', 'sello'])\n",
    "        if resultado_c == 'cara':\n",
    "            caras_c += 1\n",
    "            \n",
    "    v = caras_c/n\n",
    "    return caras_c, v"
   ]
  },
  {
   "cell_type": "code",
   "execution_count": 7,
   "id": "0903bcde",
   "metadata": {},
   "outputs": [],
   "source": [
    "num_monedas = 1000\n",
    "resultados_caras = []\n",
    "resultados_caras_porc = []\n",
    "for i in range(num_monedas):\n",
    "    valor = lanzamiento_moneda()\n",
    "    resultados_caras.append(valor[0])\n",
    "    resultados_caras_porc.append(valor[1])"
   ]
  },
  {
   "cell_type": "code",
   "execution_count": 8,
   "id": "db352f0a",
   "metadata": {},
   "outputs": [],
   "source": [
    "# Ejecutar la simulación de lanzamiento de las 1000 monedas\n",
    "def experimento():\n",
    "    num_monedas = 1000\n",
    "    resultados_caras = []\n",
    "    resultados_caras_porc = []\n",
    "    for i in range(num_monedas):\n",
    "        valor = lanzamiento_moneda()\n",
    "        resultados_caras.append(valor[0])\n",
    "        resultados_caras_porc.append(valor[1])\n",
    "\n",
    "    c_1 = resultados_caras[0] # Primer moneda lanzada\n",
    "    c_rand = resultados_caras[random.randint(0, num_monedas-1)] # Moneda lanzada escogida al azar\n",
    "    c_min = min(resultados_caras)\n",
    "\n",
    "    v_1 = resultados_caras_porc[0] # Primer moneda lanzada\n",
    "    v_rand = resultados_caras_porc[random.randint(0, num_monedas-1)] # Moneda lanzada escogida al azar\n",
    "    v_min = min(resultados_caras_porc)\n",
    "    \n",
    "    final = {'c_1':c_1\n",
    "            ,'c_rand':c_rand\n",
    "            ,'c_min':c_min\n",
    "            ,'v_1':v_1\n",
    "            ,'v_rand':v_rand\n",
    "            ,'v_min':v_min}\n",
    "    return final"
   ]
  },
  {
   "cell_type": "markdown",
   "id": "43e238c1",
   "metadata": {},
   "source": [
    "(a) ¿Qué es $\\mu$ para las tres monedas seleccionadas?"
   ]
  },
  {
   "cell_type": "code",
   "execution_count": 9,
   "id": "96259821",
   "metadata": {},
   "outputs": [
    {
     "name": "stdout",
     "output_type": "stream",
     "text": [
      "El valor de mu para las tres monedas selecionadas es 0.23\n"
     ]
    }
   ],
   "source": [
    "lista_result = experimento()\n",
    "mu = (lista_result['v_1'] + lista_result['v_rand'] + lista_result['v_min'])/3\n",
    "print(f'El valor de mu para las tres monedas selecionadas es {round(mu,2)}')"
   ]
  },
  {
   "cell_type": "markdown",
   "id": "b0851cc3",
   "metadata": {},
   "source": [
    "(b) Repita el experimento un número considerable de veces (por ejemplo 100.000) para obtener muchas instancias de $\\nu_1$, $\\nu_{rand}$ y $\\nu_{min}$ y dibuje un histograma de distribuciones de $\\nu_1$, $\\nu_{rand}$ y $\\nu_{min}$. Note cuáles monedas terminan siendo $c_{rand}$ y $c_{min}$ cómo pueden diferir de una corrida a la otra."
   ]
  },
  {
   "cell_type": "code",
   "execution_count": 10,
   "id": "89ebc270",
   "metadata": {},
   "outputs": [],
   "source": [
    "resultados_v_1 = []\n",
    "resultados_v_rand = []\n",
    "resultados_v_min = []\n",
    "for i in range(10000):\n",
    "    lista_result = experimento()        # Ejecución 100.000 veces el experimento\n",
    "    resultados_v_1.append(lista_result['v_1'])\n",
    "    resultados_v_rand.append(lista_result['v_rand'])\n",
    "    resultados_v_min.append(lista_result['v_min'])"
   ]
  },
  {
   "cell_type": "code",
   "execution_count": 11,
   "id": "8a4aa2bf",
   "metadata": {},
   "outputs": [
    {
     "data": {
      "image/png": "[encoded data removed]",
      "text/plain": [
       "<Figure size 432x288 with 1 Axes>"
      ]
     },
     "metadata": {
      "needs_background": "light"
     },
     "output_type": "display_data"
    }
   ],
   "source": [
    "plt.hist(resultados_v_1, bins='auto', alpha=0.7, rwidth=0.85)\n",
    "plt.grid(axis='y', alpha=0.7)\n",
    "plt.xlabel('Valores')\n",
    "plt.ylabel('Frecuencia')\n",
    "plt.title('Histograma de resultados_v_1')\n",
    "plt.show()"
   ]
  },
  {
   "cell_type": "code",
   "execution_count": 12,
   "id": "8b74784d",
   "metadata": {},
   "outputs": [
    {
     "data": {
      "image/png": "[encoded data removed]",
      "text/plain": [
       "<Figure size 432x288 with 1 Axes>"
      ]
     },
     "metadata": {
      "needs_background": "light"
     },
     "output_type": "display_data"
    }
   ],
   "source": [
    "plt.hist(resultados_v_rand, bins='auto', alpha=0.7, rwidth=0.85)\n",
    "plt.grid(axis='y', alpha=0.7)\n",
    "plt.xlabel('Valores')\n",
    "plt.ylabel('Frecuencia')\n",
    "plt.title('Histograma de resultados_v_rand')\n",
    "plt.show()"
   ]
  },
  {
   "cell_type": "code",
   "execution_count": 13,
   "id": "d08fd5b8",
   "metadata": {},
   "outputs": [
    {
     "data": {
      "image/png": "[encoded data removed]",
      "text/plain": [
       "<Figure size 432x288 with 1 Axes>"
      ]
     },
     "metadata": {
      "needs_background": "light"
     },
     "output_type": "display_data"
    }
   ],
   "source": [
    "plt.hist(resultados_v_min, bins='auto', alpha=0.7, rwidth=0.85)\n",
    "plt.grid(axis='y', alpha=0.7)\n",
    "plt.xlabel('Valores')\n",
    "plt.ylabel('Frecuencia')\n",
    "plt.title('Histograma de resultados_v_min')\n",
    "plt.show()"
   ]
  },
  {
   "cell_type": "markdown",
   "id": "90f34fdf",
   "metadata": {},
   "source": [
    "(c) Usando (b), plotee una estimación para $P[\\|\\nu - \\mu\\|> \\epsilon]$ como una función de $\\epsilon$, junto con la conta de "
   ]
  },
  {
   "cell_type": "markdown",
   "id": "595d6214",
   "metadata": {},
   "source": [
    "## Ejercicio 1.11"
   ]
  },
  {
   "cell_type": "code",
   "execution_count": null,
   "id": "5878058c",
   "metadata": {},
   "outputs": [],
   "source": []
  },
  {
   "cell_type": "markdown",
   "id": "40e66d49",
   "metadata": {},
   "source": [
    "## Ejercicio 1.12"
   ]
  },
  {
   "cell_type": "code",
   "execution_count": null,
   "id": "2449459a",
   "metadata": {},
   "outputs": [],
   "source": []
  }
 ],
 "metadata": {
  "kernelspec": {
   "display_name": "Python 3",
   "language": "python",
   "name": "python3"
  },
  "language_info": {
   "codemirror_mode": {
    "name": "ipython",
    "version": 3
   },
   "file_extension": ".py",
   "mimetype": "text/x-python",
   "name": "python",
   "nbconvert_exporter": "python",
   "pygments_lexer": "ipython3",
   "version": "3.8.8"
  },
  "toc": {
   "base_numbering": 1,
   "nav_menu": {},
   "number_sections": true,
   "sideBar": true,
   "skip_h1_title": false,
   "title_cell": "Table of Contents",
   "title_sidebar": "Contents",
   "toc_cell": false,
   "toc_position": {
    "height": "calc(100% - 180px)",
    "left": "10px",
    "top": "150px",
    "width": "165px"
   },
   "toc_section_display": true,
   "toc_window_display": true
  },
  "varInspector": {
   "cols": {
    "lenName": 16,
    "lenType": 16,
    "lenVar": 40
   },
   "kernels_config": {
    "python": {
     "delete_cmd_postfix": "",
     "delete_cmd_prefix": "del ",
     "library": "var_list.py",
     "varRefreshCmd": "print(var_dic_list())"
    },
    "r": {
     "delete_cmd_postfix": ") ",
     "delete_cmd_prefix": "rm(",
     "library": "var_list.r",
     "varRefreshCmd": "cat(var_dic_list()) "
    }
   },
   "types_to_exclude": [
    "module",
    "function",
    "builtin_function_or_method",
    "instance",
    "_Feature"
   ],
   "window_display": false
  }
 },
 "nbformat": 4,
 "nbformat_minor": 5
}
